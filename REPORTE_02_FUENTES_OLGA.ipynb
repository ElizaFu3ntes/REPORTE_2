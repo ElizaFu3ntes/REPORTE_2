{
 "cells": [
  {
   "cell_type": "markdown",
   "id": "7c64429f",
   "metadata": {},
   "source": [
    "### **Proyecto 2: Introducción al análisis de datos**\n",
    "**Elaborado por:** Olga Elizabeth Fuentes Cadena\n",
    "\n",
    "*Marzo 2022*"
   ]
  },
  {
   "cell_type": "markdown",
   "id": "5be150ca",
   "metadata": {},
   "source": [
    "Se realizó el análisis de los datos de importaciones y exportaciones realizadas por la empresa **Synergy Logistics** en los años 2015 a 2020.\n",
    "Esta empresa realizó intercambios por 4 medios: aire, mar, tren y tierra."
   ]
  },
  {
   "cell_type": "markdown",
   "id": "abdbb698",
   "metadata": {},
   "source": [
    "##### **1. Rutas de importación y exportación**\n",
    "A continuación se presentan las rutas de importaciones y exportaciones con mayores transacciones"
   ]
  },
  {
   "cell_type": "code",
   "execution_count": null,
   "id": "c744ecdb",
   "metadata": {},
   "outputs": [],
   "source": [
    "from unicodedata import decimal\n",
    "import pandas as pd\n",
    "import seaborn as sns\n",
    "#Dataframe de los datos en el archivo csv\n",
    "sldb = pd.read_csv(\"synergy_logistics_database.csv\")\n",
    "rutas = sldb.groupby([\"origin\",\"destination\",\"transport_mode\"])"
   ]
  },
  {
   "cell_type": "code",
   "execution_count": null,
   "id": "dc61e2c2",
   "metadata": {},
   "outputs": [],
   "source": [
    "imports = sldb[sldb[\"direction\"]== \"Imports\"]\n",
    "rutas_imp = imports.groupby([\"origin\",\"destination\",\"transport_mode\"])\n",
    "top_rimp = rutas_imp.count()[\"total_value\"].sort_values(ascending=False).head(10)\n",
    "top_rimp = top_rimp.reset_index()\n",
    "total_imp = top_rimp[\"total_value\"].sum()\n",
    "top_rimp[\"porcentaje\"] = ((top_rimp[\"total_value\"]/total_imp).round(decimals=3))*100\n",
    "print(\"\\n10 Rutas con la mayor cantidad de importaciones:\\n\")\n",
    "print(top_rimp[[\"origin\",\"destination\",\"transport_mode\",\"porcentaje\"]])\n",
    "\n",
    "sns.catplot(data=top_rimp, kind=\"bar\", x=\"origin\", y=\"porcentaje\", palette='Pastel2_r', alpha=.6, height=9)"
   ]
  },
  {
   "cell_type": "code",
   "execution_count": null,
   "id": "7826459b",
   "metadata": {},
   "outputs": [],
   "source": [
    "exports = sldb[sldb[\"direction\"]==\"Exports\"]\n",
    "rutas_exp = exports.groupby([\"origin\",\"destination\",\"transport_mode\"])\n",
    "top_rexp = rutas_exp.count()[\"total_value\"].sort_values(ascending=False).head(10)\n",
    "top_rexp = top_rexp.reset_index()\n",
    "total_exp = top_rexp[\"total_value\"].sum()\n",
    "top_rexp[\"porcentaje\"] = ((top_rexp[\"total_value\"]/total_exp).round(decimals=3))*100\n",
    "print(\"\\n10 Rutas con la mayor cantidad de exportaciones:\\n\")\n",
    "print(top_rexp[[\"origin\",\"destination\",\"transport_mode\",\"porcentaje\"]])\n",
    "\n",
    "sns.catplot(data=top_rexp, kind=\"bar\", x=\"destination\", y=\"porcentaje\", palette='Pastel2_r', alpha=.6, height=8)"
   ]
  },
  {
   "cell_type": "markdown",
   "id": "6deb4494",
   "metadata": {},
   "source": [
    "##### **2. Medio de transporte utilizado**"
   ]
  },
  {
   "cell_type": "code",
   "execution_count": null,
   "id": "c1f71218",
   "metadata": {},
   "outputs": [],
   "source": [
    "sns.countplot(data=sldb,x=\"transport_mode\")"
   ]
  },
  {
   "cell_type": "code",
   "execution_count": null,
   "id": "e226940c",
   "metadata": {},
   "outputs": [],
   "source": [
    "transp_anual = sldb.groupby(by=[\"year\",\"transport_mode\"])\n",
    "cont_transp_anual= transp_anual[\"total_value\"].describe()[\"count\"]\n",
    "valor_tr_anual= transp_anual[\"total_value\"].agg(pd.Series.sum)\n",
    "transporte = pd.DataFrame()\n",
    "transporte[\"conteo\"]=cont_transp_anual\n",
    "transporte[\"valor\"]=valor_tr_anual\n",
    "\n",
    "sns.lineplot(x=\"year\", y=\"conteo\", hue=\"transport_mode\",data=transporte)"
   ]
  },
  {
   "cell_type": "markdown",
   "id": "ae3144cd",
   "metadata": {},
   "source": [
    "##### **3. Valor de importaciones y exportaciones**\n",
    "Lo siguiente, son las rutas que representan el 80% del valor de las importaciones y exportaciones respectivamente."
   ]
  },
  {
   "cell_type": "code",
   "execution_count": null,
   "id": "cd713c1e",
   "metadata": {},
   "outputs": [],
   "source": [
    "top_valor_imp = rutas_imp.sum()[\"total_value\"].sort_values(ascending=False).head(10)\n",
    "top_valor_imp = top_valor_imp.reset_index()\n",
    "total_valor_imp = top_valor_imp[\"total_value\"].sum()\n",
    "top_valor_imp[\"porcentaje\"] = ((top_valor_imp[\"total_value\"]/total_valor_imp).round(decimals=3))*100\n",
    "top_valor_imp [\"porc_acum\"] = top_valor_imp.cumsum()[\"porcentaje\"]\n",
    "top_80pc = top_valor_imp [top_valor_imp[\"porc_acum\"]<80]\n",
    "print (\"\\nLas rutas que representan el 80% de las importaciones son:\\n\")\n",
    "print (top_80pc[[\"origin\",\"destination\",\"transport_mode\",\"porcentaje\"]])\n",
    "\n",
    "sns.catplot(data=top_valor_imp, kind=\"bar\", x=\"origin\", y=\"porcentaje\", palette='Pastel2_r', alpha=.6, height=6)"
   ]
  },
  {
   "cell_type": "code",
   "execution_count": null,
   "id": "f96445ab",
   "metadata": {},
   "outputs": [],
   "source": [
    "top_valor_exp = rutas_exp.sum()[\"total_value\"].sort_values(ascending=False).head(10)\n",
    "top_valor_exp = top_valor_exp.reset_index()\n",
    "total_valor_exp = top_valor_exp[\"total_value\"].sum()\n",
    "top_valor_exp[\"porcentaje\"] = ((top_valor_exp[\"total_value\"]/total_valor_exp).round(decimals=3))*100\n",
    "top_valor_exp [\"porc_acum\"] = top_valor_exp.cumsum()[\"porcentaje\"]\n",
    "top_80pc = top_valor_exp [top_valor_exp[\"porc_acum\"]<80]\n",
    "print (\"\\nLas rutas que representan el 80% de las exportaciones son:\\n\")\n",
    "print (top_80pc[[\"origin\",\"destination\",\"transport_mode\",\"porcentaje\"]])\n",
    "\n",
    "sns.catplot(data=top_valor_exp, kind=\"bar\", x=\"destination\", y=\"porcentaje\", palette='Pastel2_r', alpha=.6, height=8)"
   ]
  }
 ],
 "metadata": {
  "kernelspec": {
   "display_name": "Python 3 (ipykernel)",
   "language": "python",
   "name": "python3"
  },
  "language_info": {
   "codemirror_mode": {
    "name": "ipython",
    "version": 3
   },
   "file_extension": ".py",
   "mimetype": "text/x-python",
   "name": "python",
   "nbconvert_exporter": "python",
   "pygments_lexer": "ipython3",
   "version": "3.9.7"
  }
 },
 "nbformat": 4,
 "nbformat_minor": 5
}
